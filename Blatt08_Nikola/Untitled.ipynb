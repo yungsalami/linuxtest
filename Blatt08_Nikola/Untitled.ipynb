{
 "cells": [
  {
   "cell_type": "markdown",
   "id": "22bcc553",
   "metadata": {},
   "source": [
    "# Blatt 08 \n",
    "## Noah Scheugenpflug, Salem Rezik, Nikola Mang\n",
    "\n",
    "## Aufgabe 17\n",
    "\n",
    "### c) "
   ]
  },
  {
   "cell_type": "markdown",
   "id": "1a58010b",
   "metadata": {},
   "source": [
    "Nun gilt es, den Informationsgewinn auch für die anderen Attribute anzeigen zu lassen."
   ]
  },
  {
   "cell_type": "code",
   "execution_count": 1,
   "id": "b03f9a25",
   "metadata": {},
   "outputs": [],
   "source": [
    "# Libraries we use for data analysis and visualisation\n",
    "import matplotlib.pyplot as plt\n",
    "import seaborn as sns\n",
    "import pandas as pd\n",
    "import numpy as np\n",
    "\n",
    "# libraries used for the notebook\n",
    "from IPython.display import SVG\n",
    "from graphviz import Source\n",
    "from IPython.display import display                               \n",
    "from ipywidgets import interactive\n",
    "\n",
    "from sklearn.tree import DecisionTreeClassifier\n",
    "from sklearn.datasets import make_moons"
   ]
  },
  {
   "cell_type": "code",
   "execution_count": 2,
   "id": "ef79f086",
   "metadata": {},
   "outputs": [],
   "source": [
    "df = pd.read_csv(\"data.csv\", sep = \";\") # read data from csv file\n"
   ]
  },
  {
   "cell_type": "code",
   "execution_count": 3,
   "id": "b0cb12b5",
   "metadata": {},
   "outputs": [
    {
     "data": {
      "text/html": [
       "<div>\n",
       "<style scoped>\n",
       "    .dataframe tbody tr th:only-of-type {\n",
       "        vertical-align: middle;\n",
       "    }\n",
       "\n",
       "    .dataframe tbody tr th {\n",
       "        vertical-align: top;\n",
       "    }\n",
       "\n",
       "    .dataframe thead th {\n",
       "        text-align: right;\n",
       "    }\n",
       "</style>\n",
       "<table border=\"1\" class=\"dataframe\">\n",
       "  <thead>\n",
       "    <tr style=\"text-align: right;\">\n",
       "      <th></th>\n",
       "      <th>Temperatur</th>\n",
       "      <th>Wettervorhersage</th>\n",
       "      <th>Luftfeuchtigkeit</th>\n",
       "      <th>Wind</th>\n",
       "      <th>Fußball</th>\n",
       "    </tr>\n",
       "  </thead>\n",
       "  <tbody>\n",
       "    <tr>\n",
       "      <th>0</th>\n",
       "      <td>29.4</td>\n",
       "      <td>2</td>\n",
       "      <td>85</td>\n",
       "      <td>False</td>\n",
       "      <td>False</td>\n",
       "    </tr>\n",
       "    <tr>\n",
       "      <th>1</th>\n",
       "      <td>26.7</td>\n",
       "      <td>2</td>\n",
       "      <td>90</td>\n",
       "      <td>True</td>\n",
       "      <td>False</td>\n",
       "    </tr>\n",
       "    <tr>\n",
       "      <th>2</th>\n",
       "      <td>28.3</td>\n",
       "      <td>1</td>\n",
       "      <td>78</td>\n",
       "      <td>False</td>\n",
       "      <td>True</td>\n",
       "    </tr>\n",
       "    <tr>\n",
       "      <th>3</th>\n",
       "      <td>21.1</td>\n",
       "      <td>0</td>\n",
       "      <td>96</td>\n",
       "      <td>False</td>\n",
       "      <td>True</td>\n",
       "    </tr>\n",
       "    <tr>\n",
       "      <th>4</th>\n",
       "      <td>20.0</td>\n",
       "      <td>0</td>\n",
       "      <td>80</td>\n",
       "      <td>False</td>\n",
       "      <td>True</td>\n",
       "    </tr>\n",
       "  </tbody>\n",
       "</table>\n",
       "</div>"
      ],
      "text/plain": [
       "   Temperatur  Wettervorhersage  Luftfeuchtigkeit   Wind  Fußball\n",
       "0        29.4                 2                85  False    False\n",
       "1        26.7                 2                90   True    False\n",
       "2        28.3                 1                78  False     True\n",
       "3        21.1                 0                96  False     True\n",
       "4        20.0                 0                80  False     True"
      ]
     },
     "execution_count": 3,
     "metadata": {},
     "output_type": "execute_result"
    }
   ],
   "source": [
    "df.head()"
   ]
  },
  {
   "cell_type": "code",
   "execution_count": 4,
   "id": "44eb0a5b",
   "metadata": {},
   "outputs": [],
   "source": [
    "# sono molto contento\n",
    "def entropy(p):\n",
    "    m, counts = np.unique(p, return_counts = True) # possible values\n",
    "    H = 0\n",
    "    \n",
    "    for i in range(len(m)):\n",
    "        H += counts[i]/len(p) * np.log2(counts[i]/len(p))\n",
    "    \n",
    "    return - H"
   ]
  },
  {
   "cell_type": "code",
   "execution_count": 5,
   "id": "f3dc75f9",
   "metadata": {},
   "outputs": [
    {
     "data": {
      "text/plain": [
       "0.9402859586706309"
      ]
     },
     "execution_count": 5,
     "metadata": {},
     "output_type": "execute_result"
    }
   ],
   "source": [
    "entropy(df[\"Fußball\"]) # to test result of a)"
   ]
  },
  {
   "cell_type": "code",
   "execution_count": 6,
   "id": "b4e4e4ee",
   "metadata": {},
   "outputs": [],
   "source": [
    "def info_gained(y, x):\n",
    "    mask = x == True\n",
    "    n = mask.sum()\n",
    "    n_ges = len(y)\n",
    "    n_spec = n_ges - n\n",
    "    \n",
    "    \n",
    "    H_y = entropy(y)\n",
    "    \n",
    "    H_yx = n/n_ges * entropy(y[mask]) + n_spec/n_ges * entropy(y[-mask])\n",
    "    \n",
    "    IG_yx = H_y - H_yx\n",
    "    \n",
    "    return IG_yx"
   ]
  },
  {
   "cell_type": "code",
   "execution_count": 7,
   "id": "e0e4d202",
   "metadata": {},
   "outputs": [],
   "source": [
    "def find_max_cut(y, x):\n",
    "    states = np.unique(x)\n",
    "    \n",
    "    IG_states = np.array([info_gained(y, x > i) for i in states])\n",
    "    \n",
    "    plt.figure()\n",
    "    plt.plot(states[:], IG_states[:], \".\")\n",
    "    \n",
    "    plt.xlabel(x.name)\n",
    "    plt.ylabel(\"Informationsgewinn\")\n",
    "    \n",
    "    plt.grid()\n",
    "    \n",
    "    return IG_states.max()"
   ]
  },
  {
   "cell_type": "code",
   "execution_count": 8,
   "id": "65b10d12",
   "metadata": {},
   "outputs": [
    {
     "name": "stdout",
     "output_type": "stream",
     "text": [
      "Maximum Information gained =  0.11340086418110318\n"
     ]
    },
    {
     "data": {
      "image/png": "[encoded data removed]",
      "text/plain": [
       "<Figure size 432x288 with 1 Axes>"
      ]
     },
     "metadata": {
      "needs_background": "light"
     },
     "output_type": "display_data"
    }
   ],
   "source": [
    "IG_max_T = find_max_cut(df[\"Fußball\"], df[\"Temperatur\"])\n",
    "print(\"Maximum Information gained = \", IG_max_T)"
   ]
  },
  {
   "cell_type": "code",
   "execution_count": 9,
   "id": "ec3b4998",
   "metadata": {},
   "outputs": [
    {
     "name": "stdout",
     "output_type": "stream",
     "text": [
      "Maximum Information gained =  0.10224356360985054\n"
     ]
    },
    {
     "data": {
      "image/png": "[encoded data removed]",
      "text/plain": [
       "<Figure size 432x288 with 1 Axes>"
      ]
     },
     "metadata": {
      "needs_background": "light"
     },
     "output_type": "display_data"
    }
   ],
   "source": [
    "IG_max_WV = find_max_cut(df[\"Fußball\"], df[\"Wettervorhersage\"])\n",
    "print(\"Maximum Information gained = \", IG_max_WV)"
   ]
  },
  {
   "cell_type": "code",
   "execution_count": 10,
   "id": "390ae355",
   "metadata": {},
   "outputs": [
    {
     "name": "stdout",
     "output_type": "stream",
     "text": [
      "Maximum Information gained =  0.10224356360985054\n"
     ]
    },
    {
     "data": {
      "image/png": "[encoded data removed]",
      "text/plain": [
       "<Figure size 432x288 with 1 Axes>"
      ]
     },
     "metadata": {
      "needs_background": "light"
     },
     "output_type": "display_data"
    }
   ],
   "source": [
    "IG_max_L = find_max_cut(df[\"Fußball\"], df[\"Luftfeuchtigkeit\"])\n",
    "print(\"Maximum Information gained = \", IG_max_L)"
   ]
  },
  {
   "cell_type": "code",
   "execution_count": 12,
   "id": "7691cf8e",
   "metadata": {},
   "outputs": [
    {
     "name": "stdout",
     "output_type": "stream",
     "text": [
      "Maximum Information gained =  0.04812703040826927\n"
     ]
    },
    {
     "data": {
      "image/png": "[encoded data removed]",
      "text/plain": [
       "<Figure size 432x288 with 1 Axes>"
      ]
     },
     "metadata": {
      "needs_background": "light"
     },
     "output_type": "display_data"
    }
   ],
   "source": [
    "IG_max_W= find_max_cut(df[\"Fußball\"], df[\"Wind\"])\n",
    "print(\"Maximum Information gained = \", IG_max_W)"
   ]
  },
  {
   "cell_type": "markdown",
   "id": "f0229e75",
   "metadata": {},
   "source": [
    "### d)\n",
    "\n",
    "Es zeigt sich also, dass durch einen cut bei der Temperatur die meiste Information gewonnen werden kann, gleich darauf folgen auf derselben Höhe die Luftfeuchtigkeit und Wettervorhersage."
   ]
  },
  {
   "cell_type": "code",
   "execution_count": null,
   "id": "4c9e88aa",
   "metadata": {},
   "outputs": [],
   "source": []
  }
 ],
 "metadata": {
  "kernelspec": {
   "display_name": "Python 3",
   "language": "python",
   "name": "python3"
  },
  "language_info": {
   "codemirror_mode": {
    "name": "ipython",
    "version": 3
   },
   "file_extension": ".py",
   "mimetype": "text/x-python",
   "name": "python",
   "nbconvert_exporter": "python",
   "pygments_lexer": "ipython3",
   "version": "3.8.2"
  }
 },
 "nbformat": 4,
 "nbformat_minor": 5
}
