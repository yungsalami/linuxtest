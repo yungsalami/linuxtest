{
 "cells": [
  {
   "cell_type": "markdown",
   "metadata": {},
   "source": [
    "# Blatt 8\n",
    "Nikola Mang, Salem Rezik, Noah Scheugenpflug"
   ]
  },
  {
   "cell_type": "markdown",
   "metadata": {},
   "source": [
    "## Aufgabe 16\n",
    "\n",
    "### a)\n",
    "\n",
    "Die Definition der bedingten Wahrscheinlichkeit ist\n",
    "\n",
    "\\begin{equation}\n",
    "    \\frac{p\\left(A, B\\right)}{p\\left(B\\right)} = p\\left(A|B\\right)\\;.\n",
    "\\end{equation}\n",
    "\n",
    "Daraus folgt\n",
    "\n",
    "\\begin{equation}\n",
    "     p(A|B)\\cdot p(B) = p(B|A)\\cdot p(A)\\;.\n",
    "\\end{equation}\n",
    "\n",
    "Dividieren der Gleichung mit $p(A)$ liefert den Satz von Bayes\n",
    "\n",
    "\\begin{equation}\n",
    "    \\frac{p(A|B)\\cdot p(B)}{p(A)} = p(B|A)\n",
    "\\end{equation}"
   ]
  },
  {
   "cell_type": "markdown",
   "metadata": {},
   "source": [
    "### b)"
   ]
  },
  {
   "cell_type": "code",
   "execution_count": 28,
   "metadata": {},
   "outputs": [],
   "source": [
    "import numpy as np\n",
    "import matplotlib.pyplot as plt"
   ]
  },
  {
   "cell_type": "code",
   "execution_count": 29,
   "metadata": {},
   "outputs": [],
   "source": [
    "wscj = 6\n",
    "wstj = 3\n",
    "fhj  = 3\n",
    "fnj  = 6\n",
    "thj  = 0\n",
    "tmj  = 6\n",
    "tkj  = 3\n",
    "asj  = 2\n",
    "abj  = 4\n",
    "arj  = 3\n",
    "wscn = 2\n",
    "wstn = 3\n",
    "fhn  = 4\n",
    "fnn  = 1\n",
    "thn  = 1\n",
    "tmn  = 1\n",
    "tkn  = 3\n",
    "asn  = 1\n",
    "abn  = 1\n",
    "arn  = 3"
   ]
  },
  {
   "cell_type": "markdown",
   "metadata": {},
   "source": [
    "Berechnen der bedingten Wahrscheinlichkeit für Fußball berechnet durch $\\frac{\\text{# Werte ja}}{\\text{# Werte gesamt}}$."
   ]
  },
  {
   "cell_type": "code",
   "execution_count": 30,
   "metadata": {},
   "outputs": [],
   "source": [
    "pwst = wstj / (wstj + wstn)\n",
    "pwsc = wscj / (wscj + wscn)\n",
    "pfh  = fhj  / (fhj  + fhn)\n",
    "pfn  = fnj  / (fnj  + fnn)\n",
    "pth  = thj  / (thj  + thn)\n",
    "ptm  = tmj  / (tmj  + tmn)\n",
    "ptk  = tkj  / (tkj  + tkn)\n",
    "pas  = asj  / (asj  + asn)\n",
    "pab  = abj  / (abj  + abn)\n",
    "par  = arj  / (arj  + arn)"
   ]
  },
  {
   "cell_type": "markdown",
   "metadata": {},
   "source": [
    "Die Wahrscheinlichkeit, dass heute Fußball gespielt wird bei den gegebenen Bedingungen: Wind - stark, Feuchtigkeit - hoch, Temperatur - kalt, Ausblick - sonnig; wird durch das Produkt der bedingten Wahrscheinlichkeiten der gegebenen Bedingungen berechnet."
   ]
  },
  {
   "cell_type": "code",
   "execution_count": 31,
   "metadata": {},
   "outputs": [
    {
     "data": {
      "text/plain": [
       "0.07142857142857142"
      ]
     },
     "execution_count": 31,
     "metadata": {},
     "output_type": "execute_result"
    }
   ],
   "source": [
    "phf = pwst * pfh * ptk * pas\n",
    "phf"
   ]
  },
  {
   "cell_type": "markdown",
   "metadata": {},
   "source": [
    "Damit ergibt sich die Wahrscheinlichkeit, dass heute Fußball gespielt wird zu $7.14\\%$."
   ]
  },
  {
   "cell_type": "markdown",
   "metadata": {},
   "source": [
    "### c)\n",
    "\n",
    "Es werden zuerst die Schritte wie in b) nur mit anderen Bedingungen: Wind - schwach, Feuchtigkeit - hoch, Temperatur - heiß, Ausblick - sonnig; wiederholt."
   ]
  },
  {
   "cell_type": "code",
   "execution_count": 32,
   "metadata": {},
   "outputs": [
    {
     "data": {
      "text/plain": [
       "0.0"
      ]
     },
     "execution_count": 32,
     "metadata": {},
     "output_type": "execute_result"
    }
   ],
   "source": [
    "pmf = pwsc * pfh * pth * pas\n",
    "pmf"
   ]
  },
  {
   "cell_type": "markdown",
   "metadata": {},
   "source": [
    "Da die bedingte Wahrscheinlichkeit für eine hohe Temperatur $0\\%$ ist, da in dem Datensatz keine heiße Temperatur gemessen wurde, wenn Fußball gespielt wurde, und die Gesamtwahrscheinlichkeit ein Produkt der Wahrscheinlichkeiten ist, ergibt sich diese ebenfalls zu $0\\%$."
   ]
  },
  {
   "cell_type": "code",
   "execution_count": 33,
   "metadata": {},
   "outputs": [
    {
     "data": {
      "text/plain": [
       "0.21428571428571425"
      ]
     },
     "execution_count": 33,
     "metadata": {},
     "output_type": "execute_result"
    }
   ],
   "source": [
    "pmf2 = pwsc * pfh * pas\n",
    "pmf2"
   ]
  },
  {
   "cell_type": "markdown",
   "metadata": {},
   "source": [
    "Dieses Problem wird umgangen, in dem die Wahrscheinlichkeit für eine heiße Temperatur ignoriert wird und nicht mit multipliziert wird. Damit ergibt sich die Wahrscheinlichkeit, dass morgen Fußball gespielt wird zu $21,43\\%$."
   ]
  }
 ],
 "metadata": {
  "kernelspec": {
   "display_name": "Python 3",
   "language": "python",
   "name": "python3"
  },
  "language_info": {
   "codemirror_mode": {
    "name": "ipython",
    "version": 3
   },
   "file_extension": ".py",
   "mimetype": "text/x-python",
   "name": "python",
   "nbconvert_exporter": "python",
   "pygments_lexer": "ipython3",
   "version": "3.8.3"
  }
 },
 "nbformat": 4,
 "nbformat_minor": 5
}
